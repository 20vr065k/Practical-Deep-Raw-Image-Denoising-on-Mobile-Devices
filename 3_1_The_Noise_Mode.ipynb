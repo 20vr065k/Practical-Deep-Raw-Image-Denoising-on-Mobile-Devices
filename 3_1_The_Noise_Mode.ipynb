{
  "nbformat": 4,
  "nbformat_minor": 0,
  "metadata": {
    "colab": {
      "name": "3.1 The Noise Mode.ipynb",
      "provenance": []
    },
    "kernelspec": {
      "name": "python3",
      "display_name": "Python 3"
    },
    "language_info": {
      "name": "python"
    }
  },
  "cells": [
    {
      "cell_type": "code",
      "execution_count": 18,
      "metadata": {
        "colab": {
          "base_uri": "https://localhost:8080/"
        },
        "id": "a3yklDXtiJDK",
        "outputId": "91f40450-f10b-4b9f-b31c-6a27444cefa1"
      },
      "outputs": [
        {
          "output_type": "execute_result",
          "data": {
            "text/plain": [
              "array([0.64565938, 0.37311457, 0.06337705])"
            ]
          },
          "metadata": {},
          "execution_count": 18
        }
      ],
      "source": [
        "import numpy as np\n",
        "x_asta = np.random.rand(3)\n",
        "k = np.random.rand(3)\n",
        "sigma = np.random.normal(0,1,3)\n",
        "x = k * np.random.poisson(lam=x_asta/k, size=None) + np.random.normal(0, sigma*sigma)\n",
        "x"
      ]
    }
  ]
}